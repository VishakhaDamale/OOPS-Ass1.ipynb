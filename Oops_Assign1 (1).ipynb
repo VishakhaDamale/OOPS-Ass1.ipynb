{
 "cells": [
  {
   "cell_type": "markdown",
   "id": "c12b943d",
   "metadata": {},
   "source": [
    "# OOPS- Practice Set"
   ]
  },
  {
   "cell_type": "markdown",
   "id": "c58dc459",
   "metadata": {},
   "source": [
    "## Question 1: Gym Membership System\n",
    "\n",
    "**Scenario:**\n",
    "\n",
    "A neighborhood gym wants to digitize its member registration. Every member has a name and age. The gym has a fixed joining fee for all members. Also, anyone below the age of 13 is not allowed to join.\n",
    "\n",
    "**Tasks:**\n",
    "\n",
    "1. Design a way to represent a member in this system.\n",
    "\n",
    "2. Store the member's name and age.\n",
    "\n",
    "3. Ensure the system prevents anyone under 13 from being added.\n",
    "\n",
    "4. There should be a way to view the member's details including their fee."
   ]
  },
  {
   "cell_type": "code",
   "execution_count": 10,
   "id": "a7b67fc0",
   "metadata": {},
   "outputs": [],
   "source": [
    "class GymMember:\n",
    "    # Class variable for joining fee (shared by all members)\n",
    "    joining_fee = 500\n",
    "\n",
    "    def __init__(self, name, age):\n",
    "        if age < 13:\n",
    "            raise ValueError(\"Members must be at least 13 years old to join.\")\n",
    "        self.name = name\n",
    "        self.age = age\n",
    "\n",
    "    def details(self):\n",
    "        return f\"Name: {self.name}, Age: {self.age}, Fee: {GymMember.joining_fee}\"\n"
   ]
  },
  {
   "cell_type": "markdown",
   "id": "a0616e49",
   "metadata": {},
   "source": [
    "# Test Cases"
   ]
  },
  {
   "cell_type": "code",
   "execution_count": 12,
   "id": "246dbc77",
   "metadata": {},
   "outputs": [
    {
     "name": "stdout",
     "output_type": "stream",
     "text": [
      "Name: Rohit, Age: 25, Fee: 500\n"
     ]
    }
   ],
   "source": [
    "m1 = GymMember(\"Rohit\", 25)\n",
    "print(m1.details())  # Output: Name: Rohit, Age: 25, Fee: 500"
   ]
  },
  {
   "cell_type": "code",
   "execution_count": 13,
   "id": "16412d32",
   "metadata": {},
   "outputs": [
    {
     "ename": "ValueError",
     "evalue": "Members must be at least 13 years old to join.",
     "output_type": "error",
     "traceback": [
      "\u001b[0;31m---------------------------------------------------------------------------\u001b[0m",
      "\u001b[0;31mValueError\u001b[0m                                Traceback (most recent call last)",
      "Cell \u001b[0;32mIn[13], line 1\u001b[0m\n\u001b[0;32m----> 1\u001b[0m m2 \u001b[38;5;241m=\u001b[39m GymMember(\u001b[38;5;124m\"\u001b[39m\u001b[38;5;124mAnkit\u001b[39m\u001b[38;5;124m\"\u001b[39m, \u001b[38;5;241m10\u001b[39m)\n",
      "Cell \u001b[0;32mIn[10], line 7\u001b[0m, in \u001b[0;36mGymMember.__init__\u001b[0;34m(self, name, age)\u001b[0m\n\u001b[1;32m      5\u001b[0m \u001b[38;5;28;01mdef\u001b[39;00m \u001b[38;5;21m__init__\u001b[39m(\u001b[38;5;28mself\u001b[39m, name, age):\n\u001b[1;32m      6\u001b[0m     \u001b[38;5;28;01mif\u001b[39;00m age \u001b[38;5;241m<\u001b[39m \u001b[38;5;241m13\u001b[39m:\n\u001b[0;32m----> 7\u001b[0m         \u001b[38;5;28;01mraise\u001b[39;00m \u001b[38;5;167;01mValueError\u001b[39;00m(\u001b[38;5;124m\"\u001b[39m\u001b[38;5;124mMembers must be at least 13 years old to join.\u001b[39m\u001b[38;5;124m\"\u001b[39m)\n\u001b[1;32m      8\u001b[0m     \u001b[38;5;28mself\u001b[39m\u001b[38;5;241m.\u001b[39mname \u001b[38;5;241m=\u001b[39m name\n\u001b[1;32m      9\u001b[0m     \u001b[38;5;28mself\u001b[39m\u001b[38;5;241m.\u001b[39mage \u001b[38;5;241m=\u001b[39m age\n",
      "\u001b[0;31mValueError\u001b[0m: Members must be at least 13 years old to join."
     ]
    }
   ],
   "source": [
    "m2 = GymMember(\"Ankit\", 10)  # Raises: ValueError"
   ]
  },
  {
   "cell_type": "code",
   "execution_count": 14,
   "id": "67ade263",
   "metadata": {},
   "outputs": [
    {
     "name": "stdout",
     "output_type": "stream",
     "text": [
      "True\n"
     ]
    }
   ],
   "source": [
    "m3 = GymMember(\"Sonal\", 30)\n",
    "print(m1.joining_fee == m3.joining_fee)  # Output: True"
   ]
  },
  {
   "cell_type": "markdown",
   "id": "57d38fa5",
   "metadata": {},
   "source": [
    "## Question 2: Employee Bonus Calculator\n",
    "\n",
    "**Scenario:**\n",
    "\n",
    "A company is planning to automate bonus calculations. Every employee has a name, salary, and a performance score. If the score is more than 80, they get a 10% bonus. Salaries must always be positive, and scores should not exceed 100.\n",
    "\n",
    "**Tasks:**\n",
    "\n",
    "1. Represent employees with relevant information.\n",
    "\n",
    "2. Ensure salaries are always valid.\n",
    "\n",
    "3. Ensure scores are within limits.\n",
    "\n",
    "4. There should be a way to compute the bonus for an employee."
   ]
  },
  {
   "cell_type": "code",
   "execution_count": 15,
   "id": "88bd6016",
   "metadata": {},
   "outputs": [],
   "source": [
    "class Employee: # represent each employee in the company\n",
    "    def __init__(self, name, salary, performance_score):\n",
    "        if salary <= 0:\n",
    "            raise ValueError(\"Salary must be a positive number.\")\n",
    "        if not (0 <= performance_score <= 100):\n",
    "            raise ValueError(\"Performance score must be between 0 and 100.\")\n",
    "        \n",
    "        self.name = name     # store the values inside the object\n",
    "        self.salary = salary\n",
    "        self.performance_score = performance_score\n",
    "\n",
    "    def calculate_bonus(self):\n",
    "        if self.performance_score > 80:\n",
    "            return self.salary * 0.10     # calculates 10% of the salary as bonus\n",
    "        else:\n",
    "            return 0.0\n",
    "\n",
    "    def details(self):                    # prints complete employee details\n",
    "        bonus = self.calculate_bonus()\n",
    "        return (f\"Name: {self.name}, Salary: {self.salary}, \"\n",
    "                f\"Score: {self.performance_score}, Bonus: {bonus}\")\n"
   ]
  },
  {
   "cell_type": "markdown",
   "id": "c5d0fcfd",
   "metadata": {},
   "source": [
    "# Test Conditions"
   ]
  },
  {
   "cell_type": "code",
   "execution_count": 16,
   "id": "11594012",
   "metadata": {},
   "outputs": [
    {
     "name": "stdout",
     "output_type": "stream",
     "text": [
      "5000.0\n"
     ]
    }
   ],
   "source": [
    "e1 = Employee(\"Neha\", 50000, 85)\n",
    "print(e1.calculate_bonus())  # Expected: 5000.0"
   ]
  },
  {
   "cell_type": "code",
   "execution_count": 17,
   "id": "87e5d25a",
   "metadata": {},
   "outputs": [
    {
     "name": "stdout",
     "output_type": "stream",
     "text": [
      "0.0\n"
     ]
    }
   ],
   "source": [
    "e2 = Employee(\"Amit\", 60000, 60)\n",
    "print(e2.calculate_bonus())  # Expected: 0.0"
   ]
  },
  {
   "cell_type": "code",
   "execution_count": 21,
   "id": "00b46acd",
   "metadata": {},
   "outputs": [
    {
     "ename": "ValueError",
     "evalue": "Salary must be a positive number.",
     "output_type": "error",
     "traceback": [
      "\u001b[0;31m---------------------------------------------------------------------------\u001b[0m",
      "\u001b[0;31mValueError\u001b[0m                                Traceback (most recent call last)",
      "Cell \u001b[0;32mIn[21], line 2\u001b[0m\n\u001b[1;32m      1\u001b[0m \u001b[38;5;66;03m# Invalid salary or score\u001b[39;00m\n\u001b[0;32m----> 2\u001b[0m e3 \u001b[38;5;241m=\u001b[39m Employee(\u001b[38;5;124m\"\u001b[39m\u001b[38;5;124mJohn\u001b[39m\u001b[38;5;124m\"\u001b[39m, \u001b[38;5;241m-\u001b[39m\u001b[38;5;241m40000\u001b[39m, \u001b[38;5;241m75\u001b[39m)  \u001b[38;5;66;03m# Should raise error\u001b[39;00m\n\u001b[1;32m      3\u001b[0m e4 \u001b[38;5;241m=\u001b[39m Employee(\u001b[38;5;124m\"\u001b[39m\u001b[38;5;124mKiran\u001b[39m\u001b[38;5;124m\"\u001b[39m, \u001b[38;5;241m40000\u001b[39m, \u001b[38;5;241m120\u001b[39m)\n",
      "Cell \u001b[0;32mIn[15], line 4\u001b[0m, in \u001b[0;36mEmployee.__init__\u001b[0;34m(self, name, salary, performance_score)\u001b[0m\n\u001b[1;32m      2\u001b[0m \u001b[38;5;28;01mdef\u001b[39;00m \u001b[38;5;21m__init__\u001b[39m(\u001b[38;5;28mself\u001b[39m, name, salary, performance_score):\n\u001b[1;32m      3\u001b[0m     \u001b[38;5;28;01mif\u001b[39;00m salary \u001b[38;5;241m<\u001b[39m\u001b[38;5;241m=\u001b[39m \u001b[38;5;241m0\u001b[39m:\n\u001b[0;32m----> 4\u001b[0m         \u001b[38;5;28;01mraise\u001b[39;00m \u001b[38;5;167;01mValueError\u001b[39;00m(\u001b[38;5;124m\"\u001b[39m\u001b[38;5;124mSalary must be a positive number.\u001b[39m\u001b[38;5;124m\"\u001b[39m)\n\u001b[1;32m      5\u001b[0m     \u001b[38;5;28;01mif\u001b[39;00m \u001b[38;5;129;01mnot\u001b[39;00m (\u001b[38;5;241m0\u001b[39m \u001b[38;5;241m<\u001b[39m\u001b[38;5;241m=\u001b[39m performance_score \u001b[38;5;241m<\u001b[39m\u001b[38;5;241m=\u001b[39m \u001b[38;5;241m100\u001b[39m):\n\u001b[1;32m      6\u001b[0m         \u001b[38;5;28;01mraise\u001b[39;00m \u001b[38;5;167;01mValueError\u001b[39;00m(\u001b[38;5;124m\"\u001b[39m\u001b[38;5;124mPerformance score must be between 0 and 100.\u001b[39m\u001b[38;5;124m\"\u001b[39m)\n",
      "\u001b[0;31mValueError\u001b[0m: Salary must be a positive number."
     ]
    }
   ],
   "source": [
    "# Invalid salary or score\n",
    "e3 = Employee(\"John\", -40000, 75)  # Should raise error\n",
    "e4 = Employee(\"Kiran\", 40000, 120)  # Should raise error"
   ]
  },
  {
   "cell_type": "markdown",
   "id": "2941b575",
   "metadata": {},
   "source": [
    "## Question 3: Book Lending Tracker\n",
    "\n",
    "**Scenario:**\n",
    "\n",
    "A small library wants a system to manage books. Each book has a title and an author. By default, books are marked as available. When a book is given to someone, its status should change to unavailable.\n",
    "\n",
    "**Tasks:**\n",
    "\n",
    "1. Create a way to represent books in the system.\n",
    "2. Store title and author.\n",
    "3. Maintain a status that shows whether the book is available.\n",
    "4. Allow status to be updated when a book is issued.\n",
    "5. There should be a way to see book info including availability."
   ]
  },
  {
   "cell_type": "code",
   "execution_count": 27,
   "id": "747885d9",
   "metadata": {},
   "outputs": [],
   "source": [
    "class Book:\n",
    "    def __init__(self, title, author):\n",
    "        self.title = title\n",
    "        self.author = author\n",
    "        self.available = True  # Default status is available\n",
    "        \n",
    "    def issue_book(self):\n",
    "        if not self.available:\n",
    "            print(f\"The book '{self.title}' is already issued.\")\n",
    "        else:\n",
    "            self.available = False\n",
    "            print(f\"The book '{self.title}' has been issued.\")\n",
    "\n",
    "    def info(self):\n",
    "        return f\"Title: {self.title}, Author: {self.author}, Available: {self.available}\""
   ]
  },
  {
   "cell_type": "markdown",
   "id": "3d890c4d",
   "metadata": {},
   "source": [
    "# Test Conditions"
   ]
  },
  {
   "cell_type": "code",
   "execution_count": 35,
   "id": "2d10f438",
   "metadata": {},
   "outputs": [
    {
     "name": "stdout",
     "output_type": "stream",
     "text": [
      "Title: Wings of Fire, Author: A.P.J Abdul Kalam, Available: True\n"
     ]
    }
   ],
   "source": [
    "b1 = Book(\"Wings of Fire\", \"A.P.J Abdul Kalam\")\n",
    "print(b1.info())  # Expected to include \"Available: True\""
   ]
  },
  {
   "cell_type": "code",
   "execution_count": 29,
   "id": "85fa8f6d",
   "metadata": {},
   "outputs": [
    {
     "name": "stdout",
     "output_type": "stream",
     "text": [
      "The book 'Wings of Fire' has been issued.\n",
      "Title: Wings of Fire, Author: A.P.J Abdul Kalam, Available: False\n"
     ]
    }
   ],
   "source": [
    "b1.issue_book()\n",
    "print(b1.info())  # Expected to include \"Available: False\""
   ]
  },
  {
   "cell_type": "code",
   "execution_count": 30,
   "id": "07f99bed",
   "metadata": {},
   "outputs": [
    {
     "name": "stdout",
     "output_type": "stream",
     "text": [
      "Title: 1984, Author: George Orwell, Available: True\n"
     ]
    }
   ],
   "source": [
    "# Create another book\n",
    "b2 = Book(\"1984\", \"George Orwell\")\n",
    "print(b2.info())  # Should still be available"
   ]
  },
  {
   "cell_type": "markdown",
   "id": "a2130c4b",
   "metadata": {},
   "source": [
    "# Question 4: Student Progress Tracker\n",
    "\n",
    "**Scenario:**\n",
    "\n",
    "You are building a progress tracker for students in an online learning app. Every student has a name and a unique ID. Each student can enroll in multiple courses, mark courses as completed, and calculate the percentage of courses completed. You also want to keep track of how many students have been created in total.\n",
    "\n",
    "**Tasks:**\n",
    "\n",
    "1. Represent each student with a name and unique student ID.\n",
    "2. Keep track of all the courses they enroll in (store inside each student).\n",
    "3. Maintain a count of how many students exist (shared across all).\n",
    "4. Allow:\n",
    "   a) Enrolling in a new course.\n",
    "   b) Marking a course as completed.\n",
    "   c) Getting all completed courses.\n",
    "   d) Calculating percent completion."
   ]
  },
  {
   "cell_type": "code",
   "execution_count": 31,
   "id": "367f7980",
   "metadata": {},
   "outputs": [],
   "source": [
    "class Student:\n",
    "    total_student_count = 0\n",
    "    \n",
    "    def __init__(self,name,student_id):\n",
    "        self.name = name\n",
    "        self.student_id = student_id\n",
    "        self.courses = {}  # e.g., {'Python': True, 'SQL': False}\n",
    "        Student.total_student_count += 1\n",
    "\n",
    "    def enroll(self, course_name):\n",
    "        if course_name in self.courses:\n",
    "            print(f\"Already enrolled in '{course_name}'.\")\n",
    "        else:\n",
    "            self.courses[course_name] = False\n",
    "            print(f\"Enrolled in '{course_name}'.\")\n",
    "\n",
    "    def complete(self, course_name):\n",
    "        if course_name not in self.courses:\n",
    "            print(f\"Not enrolled in '{course_name}'.\")\n",
    "        elif self.courses[course_name]:\n",
    "            print(f\"'{course_name}' is already completed.\")\n",
    "        else:\n",
    "            self.courses[course_name] = True\n",
    "            print(f\"Completed '{course_name}'.\")\n",
    "\n",
    "    def get_completed_courses(self):\n",
    "        return [course for course, done in self.courses.items() if done]\n",
    "\n",
    "    def completion_rate(self):\n",
    "        total = len(self.courses)\n",
    "        completed = len(self.get_completed_courses())\n",
    "        return round((completed / total) * 100, 2) if total else 0.0\n",
    "\n",
    "    @classmethod\n",
    "    def total_students(cls):\n",
    "        return cls.total_student_count\n",
    "    "
   ]
  },
  {
   "cell_type": "code",
   "execution_count": 33,
   "id": "8b76147c",
   "metadata": {},
   "outputs": [
    {
     "name": "stdout",
     "output_type": "stream",
     "text": [
      "Enrolled in 'Python'.\n",
      "Enrolled in 'Data Science'.\n",
      "Enrolled in 'SQL'.\n",
      "Completed 'Python'.\n",
      "Completed 'SQL'.\n",
      "['Python', 'SQL']\n",
      "66.67\n",
      "4\n"
     ]
    }
   ],
   "source": [
    "s1 = Student(\"Aarav\", \"STU001\")\n",
    "s2 = Student(\"Tanya\", \"STU002\")\n",
    "\n",
    "# Enroll courses\n",
    "s1.enroll(\"Python\")\n",
    "s1.enroll(\"Data Science\")\n",
    "s1.enroll(\"SQL\")\n",
    "\n",
    "# Mark some as completed\n",
    "s1.complete(\"Python\")\n",
    "s1.complete(\"SQL\")\n",
    "\n",
    "print(s1.get_completed_courses())  \n",
    "# ✅ ['Python', 'SQL']\n",
    "\n",
    "print(s1.completion_rate())        \n",
    "# ✅ 66.67\n",
    "\n",
    "print(Student.total_students())    \n",
    "# ✅ 2\n"
   ]
  },
  {
   "cell_type": "code",
   "execution_count": null,
   "id": "559e180f",
   "metadata": {},
   "outputs": [],
   "source": []
  }
 ],
 "metadata": {
  "kernelspec": {
   "display_name": "base",
   "language": "python",
   "name": "python3"
  },
  "language_info": {
   "codemirror_mode": {
    "name": "ipython",
    "version": 3
   },
   "file_extension": ".py",
   "mimetype": "text/x-python",
   "name": "python",
   "nbconvert_exporter": "python",
   "pygments_lexer": "ipython3",
   "version": "3.12.7"
  }
 },
 "nbformat": 4,
 "nbformat_minor": 5
}
